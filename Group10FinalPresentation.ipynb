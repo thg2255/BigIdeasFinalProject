{
 "cells": [
  {
   "cell_type": "markdown",
   "metadata": {},
   "source": [
    "# Best Neighborhood in Pittsburgh"
   ]
  },
  {
   "cell_type": "markdown",
   "metadata": {},
   "source": [
    "## Team: Group 11\n",
    "#### Tom Greene\n",
    "#### Josavee Sok-Coyle\n",
    "#### Troy Reinhardt"
   ]
  },
  {
   "cell_type": "markdown",
   "metadata": {},
   "source": [
    "## Part 1: Art - Tom"
   ]
  },
  {
   "cell_type": "markdown",
   "metadata": {},
   "source": [
    "One of the coolest things about coming from the suburbs into the city is the \"different style\". Cities tend to have a lot more character than normal towns and because of that have more charm. This is due to a number of things such as the people, stores/ restaurants, architecture, food, etc. Of these reasons, a very underrated one that can turn a neighborhood from good to great is art. While many believe public art doesn't matter when it comes to defining a neighborhood, in actuality it is extremely important. Public art is what causes many people to visit neighborhoods they wouldn't otherwise visit, which is why, as a city rich of art, I chose to rank the neighborhoods of Pittsburgh based on the amount of art they have."
   ]
  },
  {
   "cell_type": "code",
   "execution_count": null,
   "metadata": {},
   "outputs": [],
   "source": [
    "##### load pandas (always do this first)\n",
    "import pandas as pd\n",
    "import numpy as np\n",
    "# If you don't do this what are you doing with your life.\n",
    "data = pd.read_csv(\"https://data.wprdc.org/datastore/dump/00d74e83-8a23-486e-841b-286e1332a151\")\n",
    "# Grouping the data by Neighborhood\n",
    "neighborhood = data.neighborhood\n",
    "# Below gathers all of the instances a neighborhood appears on this list\n",
    "neighborhood.value_counts()\n"
   ]
  },
  {
   "cell_type": "code",
   "execution_count": null,
   "metadata": {},
   "outputs": [],
   "source": [
    "# Imports plotting devices\n",
    "from matplotlib import pyplot as plt\n",
    "\n",
    "# Creates bar graph\n",
    "neighborhood.value_counts().head(10).plot(kind='bar')\n",
    "\n",
    "plt.title('Number of Public Art Pieces per Pittsburgh Neighborhood')\n",
    "plt.xlabel('Neighborhoods')\n",
    "plt.ylabel('Number of Art Pieces')"
   ]
  },
  {
   "cell_type": "markdown",
   "metadata": {},
   "source": [
    "\n",
    "##### Best Neighborhood???\n",
    "The winner is the Central Business District with Squirrel Hill South in second and Allegheny Center in third.\n",
    "\n",
    "##### Conclusion\n",
    "Personally, my I was not surprised to find out that the central business district won due to the fact that it is the downtown \"Touristy\" area of Pittsburgh. I would also say it is my favorite part of Pittsburgh (other than Oakland of course!). I was mostly surprsed to find that Oakland did not even make the top ten because it seems like there is a ton of art in Oakland."
   ]
  },
  {
   "cell_type": "markdown",
   "metadata": {},
   "source": [
    "## Part 2: Capital Projects - Josavee"
   ]
  },
  {
   "cell_type": "markdown",
   "metadata": {},
   "source": [
    "In my part of the project, I chose capital projects as my metric. I am analyzing which neighborhood brings in the most government money to spend on projects that better their neighborhood."
   ]
  },
  {
   "cell_type": "code",
   "execution_count": null,
   "metadata": {},
   "outputs": [],
   "source": [
    "capital_data = pd.read_csv(\"https://data.wprdc.org/datastore/dump/2fb96406-813e-4031-acfe-1a82e78dc33c\")\n",
    "capital_data\n"
   ]
  },
  {
   "cell_type": "markdown",
   "metadata": {},
   "source": [
    "Checking which neighborhood has the most and least projects"
   ]
  },
  {
   "cell_type": "code",
   "execution_count": null,
   "metadata": {},
   "outputs": [],
   "source": [
    "print(capital_data['neighborhood'].value_counts())"
   ]
  },
  {
   "cell_type": "code",
   "execution_count": null,
   "metadata": {},
   "outputs": [],
   "source": [
    "#editing the data into just the budgeted amount and neighborhood\n",
    "data = capital_data.loc[:, ['budgeted_amount', 'neighborhood']]\n",
    "data\n",
    "t= data.groupby('neighborhood')['budgeted_amount'].sum()\n",
    "t = pd.DataFrame(t)\n",
    "t"
   ]
  },
  {
   "cell_type": "markdown",
   "metadata": {},
   "source": [
    "#### Which neighborhood receives the most money for capital projects?"
   ]
  },
  {
   "cell_type": "code",
   "execution_count": null,
   "metadata": {},
   "outputs": [],
   "source": [
    "t = t.sort_values(by=['budgeted_amount'], ascending=False)\n",
    "graph = t.plot.barh(figsize=(15,data.shape[0] * 0.025), legend=None)\n",
    "graph.set_ylabel('Neighborhood')\n",
    "graph.set_xlabel('Total Captial Project Money')"
   ]
  },
  {
   "cell_type": "code",
   "execution_count": null,
   "metadata": {},
   "outputs": [],
   "source": [
    "#gives a number 0-100 to each neighborhood\n",
    "total_sum = capital_data['budgeted_amount'].sum()\n",
    "final = data.groupby('neighborhood')['budgeted_amount'].sum()/total_sum * 3200\n",
    "final.plot.bar(figsize=(15,data.shape[0] * 0.01))\n",
    "print(final)"
   ]
  },
  {
   "cell_type": "markdown",
   "metadata": {},
   "source": [
    "#### Conclusion\n",
    "\n",
    "While I expected South Side Flats to rank first I am still surprise that Greenfield won. The dataset didn't mention Greenfield as much, however they were given a large budget for each project so I suppose it's not TOO shocking. Greenfield also had a lot of engineering and facility improvement projects so that might be a reason they ranked first."
   ]
  },
  {
   "cell_type": "markdown",
   "metadata": {},
   "source": [
    "## Part 3: Property - Troy"
   ]
  },
  {
   "cell_type": "markdown",
   "metadata": {},
   "source": [
    "I chose to use property sales for my data to determine the best neighborhood as I figured the more expensive the sales are, the nicer the area would be. Although, I do recognize money is not always everything."
   ]
  },
  {
   "cell_type": "code",
   "execution_count": null,
   "metadata": {},
   "outputs": [],
   "source": [
    "property_data = pd.read_csv(\"https://data.wprdc.org/datastore/dump/8eff881d-4d28-4064-83f1-30cc991cfec7\")\n",
    "property_data"
   ]
  },
  {
   "cell_type": "code",
   "execution_count": null,
   "metadata": {},
   "outputs": [],
   "source": [
    "column_names = [\"PROPERTYADDRESS\", \"NEIGHBORHOOD\", \"SALEPRICE\", \"BEDROOMS\"]\n",
    "house_data = pd.DataFrame(property_data, columns=column_names)\n",
    "houses = house_data[house_data['BEDROOMS'].notna()]\n",
    "houses = houses[houses['NEIGHBORHOOD'].notna()]\n",
    "houses"
   ]
  },
  {
   "cell_type": "code",
   "execution_count": null,
   "metadata": {},
   "outputs": [],
   "source": [
    "avg_n = dict(houses.groupby('NEIGHBORHOOD')['SALEPRICE'].mean())\n",
    "avg_info = {'Average': avg_n}\n",
    "avgF = pd.DataFrame(avg_info)\n",
    "avgF = avgF.sort_values(by=['Average'], ascending=False)\n",
    "avgF"
   ]
  },
  {
   "cell_type": "code",
   "execution_count": null,
   "metadata": {},
   "outputs": [],
   "source": [
    "graph = avgF.plot.barh(figsize=(15,avgF.shape[0] * .5), legend=None)"
   ]
  },
  {
   "cell_type": "code",
   "execution_count": null,
   "metadata": {},
   "outputs": [],
   "source": [
    "avgF['Score'] = (avgF['Average']/10000)*3\n",
    "avgF"
   ]
  },
  {
   "cell_type": "markdown",
   "metadata": {},
   "source": [
    "#### Conclusion"
   ]
  },
  {
   "cell_type": "markdown",
   "metadata": {},
   "source": [
    "Based on the data for house sales, the Strip District is the best neighborhood due to it having the highest average value in their property sales. It is slightly different than what I expected as I expected Squirrel Hill and Shadyside to top the list, but they ended third and fifth"
   ]
  },
  {
   "cell_type": "markdown",
   "metadata": {},
   "source": [
    "## Conclusion"
   ]
  },
  {
   "cell_type": "code",
   "execution_count": null,
   "metadata": {},
   "outputs": [],
   "source": [
    "combined = pd.read_csv(\"Combined_Scores.csv\")"
   ]
  },
  {
   "cell_type": "code",
   "execution_count": null,
   "metadata": {},
   "outputs": [],
   "source": [
    "combined"
   ]
  },
  {
   "cell_type": "code",
   "execution_count": null,
   "metadata": {},
   "outputs": [],
   "source": [
    "neighborhoods = combined[\"Neighborhood\"].values\n",
    "propertyScore = combined[\"Property Score\"].values\n",
    "capitalScore = combined[\"Capital Projects Score\"].values\n",
    "artScore = combined[\"Art Score\"].values\n",
    "avgScore = combined[\"Overall Score(AVG)\"].values"
   ]
  },
  {
   "cell_type": "code",
   "execution_count": null,
   "metadata": {},
   "outputs": [],
   "source": [
    "import matplotlib.pyplot as plt"
   ]
  },
  {
   "cell_type": "code",
   "execution_count": null,
   "metadata": {},
   "outputs": [],
   "source": [
    "plt.figure(figsize=(20,10))\n",
    "plt.bar(neighborhoods, propertyScore, width= 0.5, label = 'Property Score', color = 'red', bottom = capitalScore)\n",
    "plt.bar(neighborhoods, capitalScore, width= .5, label = 'Capital Score', color = 'blue', bottom = artScore)\n",
    "plt.bar(neighborhoods, artScore, width= .5, label = 'Art Score', color = 'green')\n",
    "plt.xticks(neighborhoods,rotation=90)\n",
    "plt.ylabel(\"Score\")\n",
    "plt.ylim(0,180) \n",
    "plt.xlabel(\"Neighborhoods\")\n",
    "plt.show()"
   ]
  },
  {
   "cell_type": "code",
   "execution_count": null,
   "metadata": {},
   "outputs": [],
   "source": []
  },
  {
   "cell_type": "code",
   "execution_count": null,
   "metadata": {},
   "outputs": [],
   "source": []
  }
 ],
 "metadata": {
  "kernelspec": {
   "display_name": "Python 3",
   "language": "python",
   "name": "python3"
  },
  "language_info": {
   "codemirror_mode": {
    "name": "ipython",
    "version": 3
   },
   "file_extension": ".py",
   "mimetype": "text/x-python",
   "name": "python",
   "nbconvert_exporter": "python",
   "pygments_lexer": "ipython3",
   "version": "3.8.3"
  }
 },
 "nbformat": 4,
 "nbformat_minor": 4
}
